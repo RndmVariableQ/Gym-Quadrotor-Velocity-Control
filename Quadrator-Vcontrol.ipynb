{
 "cells": [
  {
   "cell_type": "code",
   "execution_count": 1,
   "metadata": {},
   "outputs": [
    {
     "name": "stderr",
     "output_type": "stream",
     "text": [
      "D:\\Anaconda\\lib\\importlib\\_bootstrap.py:219: RuntimeWarning: numpy.ufunc size changed, may indicate binary incompatibility. Expected 192 from C header, got 216 from PyObject\n",
      "  return f(*args, **kwds)\n"
     ]
    }
   ],
   "source": [
    "import os\n",
    "import numpy as np\n",
    "\n",
    "import parl\n",
    "from parl import layers\n",
    "from paddle import fluid\n",
    "from parl.utils import logger\n",
    "from parl.utils import action_mapping # 将神经网络输出映射到对应的 实际动作取值范围 内\n",
    "from parl.utils import ReplayMemory # 经验回放\n",
    "\n",
    "from rlschool import make_env  # 使用 RLSchool 创建飞行器环境\n",
    "from copy import deepcopy"
   ]
  },
  {
   "cell_type": "markdown",
   "metadata": {},
   "source": [
    "### Model"
   ]
  },
  {
   "cell_type": "code",
   "execution_count": 2,
   "metadata": {},
   "outputs": [],
   "source": [
    "class ActorModel(parl.Model): # obs_dim=16 -> act_dim=4\n",
    "    def __init__(self, act_dim):\n",
    "        hid_size = 380\n",
    "\n",
    "        self.act_dim = act_dim\n",
    "        self.fc1 = layers.fc(size=hid_size, act='relu')\n",
    "        self.fc2 = layers.fc(size=hid_size, act='relu')\n",
    "        self.fc3 = layers.fc(size=hid_size, act='relu')\n",
    "        self.fc4 = layers.fc(size=act_dim, act='tanh')\n",
    "\n",
    "    def policy(self, obs):\n",
    "        out = self.fc1(obs)\n",
    "        out = self.fc2(out)\n",
    "        out = self.fc3(out)\n",
    "        logits = self.fc4(out)\n",
    "        return logits\n",
    "\n",
    "\n",
    "class CriticModel(parl.Model): # [action_dim=4, obs_dim=19]->input_dim=23, output_dim = 1\n",
    "    def __init__(self):\n",
    "        hid_size = 460\n",
    "\n",
    "        self.fc1 = layers.fc(size=hid_size, act='relu')\n",
    "        self.fc2 = layers.fc(size=hid_size, act='relu')\n",
    "        self.fc3 = layers.fc(size=hid_size, act='relu')\n",
    "        self.fc4 = layers.fc(size=1, act=None)\n",
    "\n",
    "    def value(self, obs, act):\n",
    "        concat = layers.concat([obs, act], axis=1)\n",
    "        hid = self.fc1(concat)\n",
    "        hid = self.fc2(hid)\n",
    "        hid = self.fc3(hid)\n",
    "        Q = self.fc4(hid)\n",
    "        Q = layers.squeeze(Q, axes=[1])\n",
    "        return Q\n",
    "\n",
    "\n",
    "\n",
    "class QuadrotorModel(parl.Model):\n",
    "    def __init__(self, act_dim):\n",
    "        self.actor_model = ActorModel(act_dim)\n",
    "        self.critic_model = CriticModel()\n",
    "\n",
    "    def policy(self, obs):\n",
    "        return self.actor_model.policy(obs)\n",
    "\n",
    "    def value(self, obs, act):\n",
    "        return self.critic_model.value(obs, act)\n",
    "\n",
    "    def get_actor_params(self):\n",
    "        return self.actor_model.parameters()"
   ]
  },
  {
   "cell_type": "markdown",
   "metadata": {},
   "source": [
    "### Algorithm"
   ]
  },
  {
   "cell_type": "code",
   "execution_count": 3,
   "metadata": {},
   "outputs": [],
   "source": [
    "from parl.algorithms import DDPG # 也可以直接从parl库中快速引入DDPG算法，无需自己重新写算法"
   ]
  },
  {
   "cell_type": "markdown",
   "metadata": {},
   "source": [
    "### Agent"
   ]
  },
  {
   "cell_type": "code",
   "execution_count": 4,
   "metadata": {},
   "outputs": [],
   "source": [
    "class QuadrotorAgent(parl.Agent):\n",
    "    def __init__(self, algorithm, obs_dim, act_dim=4):\n",
    "        assert isinstance(obs_dim, int)\n",
    "        assert isinstance(act_dim, int)\n",
    "        self.obs_dim = obs_dim\n",
    "        self.act_dim = act_dim\n",
    "        super(QuadrotorAgent, self).__init__(algorithm)\n",
    "\n",
    "        # 注意，在最开始的时候，先完全同步target_model和model的参数\n",
    "        self.alg.sync_target(decay=0)\n",
    "\n",
    "    def build_program(self):\n",
    "        self.pred_program = fluid.Program()\n",
    "        self.learn_program = fluid.Program()\n",
    "\n",
    "        with fluid.program_guard(self.pred_program): # predict计算图\n",
    "            obs = layers.data(\n",
    "                name='obs', shape=[self.obs_dim], dtype='float32')\n",
    "            self.pred_act = self.alg.predict(obs)\n",
    "\n",
    "        with fluid.program_guard(self.learn_program): # learn计算图\n",
    "            obs = layers.data(\n",
    "                name='obs', shape=[self.obs_dim], dtype='float32')\n",
    "            act = layers.data(\n",
    "                name='act', shape=[self.act_dim], dtype='float32')\n",
    "            reward = layers.data(name='reward', shape=[], dtype='float32')\n",
    "            next_obs = layers.data(\n",
    "                name='next_obs', shape=[self.obs_dim], dtype='float32')\n",
    "            terminal = layers.data(name='terminal', shape=[], dtype='bool')\n",
    "            _, self.critic_cost = self.alg.learn(obs, act, reward, next_obs,\n",
    "                                                 terminal)\n",
    "\n",
    "    def predict(self, obs):\n",
    "        obs = np.expand_dims(obs, axis=0)\n",
    "        act = self.fluid_executor.run(\n",
    "            self.pred_program, feed={'obs': obs},\n",
    "            fetch_list=[self.pred_act])[0]\n",
    "        return act\n",
    "\n",
    "    def learn(self, obs, act, reward, next_obs, terminal):\n",
    "        feed = {\n",
    "            'obs': obs,\n",
    "            'act': act,\n",
    "            'reward': reward,\n",
    "            'next_obs': next_obs,\n",
    "            'terminal': terminal\n",
    "        }\n",
    "        critic_cost = self.fluid_executor.run(\n",
    "            self.learn_program, feed=feed, fetch_list=[self.critic_cost])[0]\n",
    "        self.alg.sync_target()\n",
    "        return critic_cost"
   ]
  },
  {
   "cell_type": "code",
   "execution_count": 12,
   "metadata": {},
   "outputs": [],
   "source": [
    "def run_episode(env, agent, rpm):\n",
    "    obs = env.reset()\n",
    "    total_reward, steps = 0, 0\n",
    "    while True:\n",
    "        steps += 1\n",
    "        batch_obs = np.expand_dims(obs, axis=0)\n",
    "        action = agent.predict(batch_obs.astype('float32'))\n",
    "        action = np.squeeze(action)\n",
    "\n",
    "        # 给输出动作增加探索扰动，输出限制在 [-1.0, 1.0] 范围内\n",
    "        action = np.clip(np.random.normal(action, 0.5), -1.0, 1.0)\n",
    "        act_unmap = action\n",
    "        \n",
    "        # 动作映射到对应的 实际动作取值范围 内, action_mapping是从parl.utils那里import进来的函数\n",
    "        action = action_mapping(action, env.action_space.low[0],\n",
    "                                env.action_space.high[0]) # 0.1~15.0\n",
    "\n",
    "\n",
    "        next_obs, reward, done, info = env.step(action) # 采取action\n",
    "        rpm.append(obs, act_unmap, REWARD_SCALE * reward, next_obs, done) # 存入rpm\n",
    "\n",
    "        if rpm.size() > MEMORY_WARMUP_SIZE:\n",
    "            batch_obs, batch_action, batch_reward, batch_next_obs, \\\n",
    "                    batch_terminal = rpm.sample_batch(BATCH_SIZE) # sample一个batch\n",
    "            critic_cost = agent.learn(batch_obs, batch_action, batch_reward,\n",
    "                                      batch_next_obs, batch_terminal) # 给agent学习\n",
    "\n",
    "        obs = next_obs\n",
    "        total_reward += reward\n",
    "\n",
    "        if done:\n",
    "            break\n",
    "    return total_reward, steps\n",
    "\n",
    "\n",
    "def evaluate(env, agent):\n",
    "    eval_reward = []\n",
    "    for i in range(1):\n",
    "        obs = env.reset()\n",
    "        total_reward, steps = 0, 0\n",
    "        while True:\n",
    "            batch_obs = np.expand_dims(obs, axis=0)\n",
    "            action = agent.predict(batch_obs.astype('float32'))\n",
    "            action = np.squeeze(action)\n",
    "            action = np.clip(action, -1.0, 1.0)\n",
    "            \n",
    "#             mean = np.mean(action)\n",
    "#             action = action + 0.2*(mean-action)\n",
    "            action = action_mapping(action, env.action_space.low[0],\n",
    "                                    env.action_space.high[0])\n",
    "\n",
    "\n",
    "            next_obs, reward, done, info = env.step(action)\n",
    "\n",
    "            obs = next_obs\n",
    "            total_reward += reward\n",
    "            steps += 1\n",
    "\n",
    "            if done:\n",
    "                break\n",
    "        eval_reward.append(total_reward)\n",
    "    print(\">>>{}>>>\".format(eval_reward))\n",
    "    return np.mean(eval_reward)"
   ]
  },
  {
   "cell_type": "code",
   "execution_count": 13,
   "metadata": {},
   "outputs": [],
   "source": [
    "# 设置超参数 Hyperparameters\n",
    "ACTOR_LR = 1e-6   # Actor网络更新的 learning rate\n",
    "CRITIC_LR = 1e-7   # Critic网络更新的 learning rate\n",
    "\n",
    "GAMMA = 0.99        # reward 的衰减因子，一般取 0.9 到 0.999 不等\n",
    "TAU = 0.001         # target_model 跟 model 同步参数 的 软更新参数\n",
    "MEMORY_SIZE = 3e4   # replay memory的大小，越大越占用内存\n",
    "MEMORY_WARMUP_SIZE = 1e4      # replay_memory 里需要预存一些经验数据，再从里面sample一个batch的经验让agent去learn\n",
    "REWARD_SCALE = 0.01       # reward 的缩放因子\n",
    "BATCH_SIZE = 128\n",
    "# 每次给agent learn的数据数量，从replay memory随机里sample一批数据出来\n",
    "TRAIN_TOTAL_STEPS = 1e6   # 总训练步数\n",
    "TEST_EVERY_STEPS = 5e3    # 每个N步评估一下算法效果，每次评估5个episode求平均reward"
   ]
  },
  {
   "cell_type": "code",
   "execution_count": null,
   "metadata": {},
   "outputs": [],
   "source": [
    "# 创建飞行器环境 Create the env\n",
    "env = make_env(\"Quadrotor\", task=\"velocity_control\", seed=0)\n",
    "env.reset()\n",
    "obs_dim = env.observation_space.shape[0]\n",
    "act_dim = env.action_space.shape[0]\n",
    "\n",
    "model = QuadrotorModel(act_dim=act_dim)\n",
    "algorithm = DDPG(model, gamma=GAMMA, tau=TAU, actor_lr=ACTOR_LR, critic_lr=CRITIC_LR)\n",
    "agent = QuadrotorAgent(algorithm, obs_dim, act_dim)\n",
    "\n",
    "# parl库也为DDPG算法内置了ReplayMemory，可直接从 parl.utils 引入使用\n",
    "rpm = ReplayMemory(int(MEMORY_SIZE), obs_dim, act_dim)"
   ]
  },
  {
   "cell_type": "code",
   "execution_count": null,
   "metadata": {},
   "outputs": [],
   "source": [
    "# 启动训练\n",
    "#run4_steps_801000_reward_-19.98\n",
    "ckpt = './run1_steps_110000_reward_-19.84.ckpt'\n",
    "agent.restore(ckpt)\n",
    "\n",
    "test_flag = 0\n",
    "total_steps = 0\n",
    "\n",
    "Rplot = []\n",
    "while total_steps < TRAIN_TOTAL_STEPS:\n",
    "    train_reward, steps = run_episode(env, agent, rpm)\n",
    "    total_steps += steps\n",
    "    logger.info('Steps: {} Reward: {}'.format(total_steps, train_reward)) # 打印训练reward\n",
    "\n",
    "    if total_steps // TEST_EVERY_STEPS >= test_flag: # 每隔一定step数，评估一次模型\n",
    "        while total_steps // TEST_EVERY_STEPS >= test_flag:\n",
    "            test_flag += 1\n",
    " \n",
    "        evaluate_reward = evaluate(env, agent)\n",
    "        logger.info(' 😀Steps {}, Test reward: {}😀'.format(\n",
    "            total_steps, np.round(evaluate_reward,5))) # 打印评估的reward\n",
    "        \n",
    "        Rplot.append(np.round(evaluate_reward,2))\n",
    "\n",
    "        # 每评估一次，就保存一次模型，以训练的step数命名\n",
    "        ckpt = './run1_{}_reward_{}.ckpt'.format(total_steps, np.round(evaluate_reward,2))\n",
    "        agent.save(ckpt)"
   ]
  },
  {
   "cell_type": "markdown",
   "metadata": {},
   "source": [
    "### Test"
   ]
  },
  {
   "cell_type": "code",
   "execution_count": 23,
   "metadata": {},
   "outputs": [
    {
     "name": "stderr",
     "output_type": "stream",
     "text": [
      "2020-06-29 21:36:11,177-WARNING: face_normals all zero, ignoring!\n"
     ]
    },
    {
     "name": "stdout",
     "output_type": "stream",
     "text": [
      "-19.18377667987661\n"
     ]
    }
   ],
   "source": [
    "ckpt = './run1_steps_110000_reward_-19.84.ckpt'\n",
    "agent.restore(ckpt)\n",
    "r = 0\n",
    "\n",
    "env = make_env(\"Quadrotor\", task=\"velocity_control\", seed=0)\n",
    "obs = env.reset()\n",
    "\n",
    "while True:\n",
    "    env.render()\n",
    "    batch_obs = np.expand_dims(obs, axis=0)\n",
    "    action = agent.predict(batch_obs.astype('float32'))\n",
    "    action = np.squeeze(action)\n",
    "    action = np.clip(action, -1.0, 1.0)\n",
    "\n",
    "    action = action_mapping(action, env.action_space.low[0],\n",
    "                            env.action_space.high[0])\n",
    "    \n",
    "    next_obs, reward, done, info = env.step(action)\n",
    "    obs = next_obs\n",
    "    r += reward\n",
    "\n",
    "    if done:\n",
    "        env.close()\n",
    "        break\n",
    "        \n",
    "print(r)"
   ]
  },
  {
   "cell_type": "code",
   "execution_count": 10,
   "metadata": {},
   "outputs": [],
   "source": []
  },
  {
   "cell_type": "code",
   "execution_count": null,
   "metadata": {},
   "outputs": [],
   "source": []
  },
  {
   "cell_type": "code",
   "execution_count": null,
   "metadata": {},
   "outputs": [],
   "source": []
  },
  {
   "cell_type": "code",
   "execution_count": null,
   "metadata": {},
   "outputs": [],
   "source": []
  }
 ],
 "metadata": {
  "kernelspec": {
   "display_name": "Python 3.7.6 64-bit ('base': conda)",
   "language": "python",
   "name": "python37664bitbaseconda8e2608e494de448bb5ee8692fb9a035e"
  },
  "language_info": {
   "codemirror_mode": {
    "name": "ipython",
    "version": 3
   },
   "file_extension": ".py",
   "mimetype": "text/x-python",
   "name": "python",
   "nbconvert_exporter": "python",
   "pygments_lexer": "ipython3",
   "version": "3.7.6"
  }
 },
 "nbformat": 4,
 "nbformat_minor": 4
}
